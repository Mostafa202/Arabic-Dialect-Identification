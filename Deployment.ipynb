{
 "cells": [
  {
   "cell_type": "code",
   "execution_count": 31,
   "id": "8b013320",
   "metadata": {},
   "outputs": [],
   "source": [
    "import numpy as np\n",
    "import pandas as pd\n",
    "from tensorflow.keras.models import load_model\n",
    "import random\n",
    "from flask import Flask, render_template, request\n",
    "import joblib\n",
    "from sklearn.feature_extraction.text import CountVectorizer\n",
    "from sklearn.preprocessing import MaxAbsScaler\n",
    "from nltk.corpus import stopwords\n",
    "import re\n",
    "from itertools import groupby\n",
    "from pyarabic.araby import *\n",
    "import pickle"
   ]
  },
  {
   "cell_type": "code",
   "execution_count": 32,
   "id": "38e1b5bf",
   "metadata": {},
   "outputs": [],
   "source": [
    "#preprocessing for dataset\n",
    "\n",
    "#removing arabic stopwords\n",
    "stop_words = stopwords.words('arabic') \n",
    "def filter_text(text):\n",
    "    \n",
    "    \"\"\"\n",
    "    Function to filter text\n",
    "    \n",
    "    Parameters:\n",
    "      * text(string): text that is filtered from special characters and others\n",
    "      \n",
    "    Return text(string): filtered text using regular expression\n",
    "    \"\"\"\n",
    "    #filter text by removing special characters -> not arabic words or numbers -> trim spcases -> removing stopwords and others\n",
    "    filtered_text = \" \".join([word for word in text.split(' ') if word not in stop_words])\n",
    "    filtered_text = \" \".join(re.findall('[\\u0600-\\u06ff]+',filtered_text))\n",
    "    filtered_text = re.sub('\\s+',' ',re.sub('[٠-٩؟،]','',filtered_text))\n",
    "    filtered_text = re.sub(\"[إأآا]\", \"ا\", filtered_text)\n",
    "    filtered_text = \"\".join(c for c, _ in groupby(filtered_text))\n",
    "    filtered_text = strip_tashkeel(filtered_text)\n",
    "    filtered_text = strip_lastharaka(filtered_text)\n",
    "    filtered_text = strip_tatweel(filtered_text)\n",
    "\n",
    "    return filtered_text"
   ]
  },
  {
   "cell_type": "code",
   "execution_count": 55,
   "id": "bd3f6c38",
   "metadata": {},
   "outputs": [],
   "source": [
    "#predict from ML model\n",
    "\n",
    "#load vectors of transformation\n",
    "counter   = joblib.load('vectors/count_vector.pkl')\n",
    "scaler    = joblib.load('vectors/scaler.pkl')\n",
    "ml_model  = joblib.load('models/dialect_ml_model.pkl')\n"
   ]
  },
  {
   "cell_type": "code",
   "execution_count": 56,
   "id": "cd6f9214",
   "metadata": {},
   "outputs": [],
   "source": [
    "def ret_ml_prediction(text):\n",
    "    return ml_model.predict(scaler.transform(counter.transform([filter_text(text)])))[0]"
   ]
  },
  {
   "cell_type": "code",
   "execution_count": 76,
   "id": "cff9b246",
   "metadata": {},
   "outputs": [],
   "source": [
    "#predict from DL model\n",
    "word2idx = joblib.load('vectors/dict_word2idx.sav')\n",
    "dl_model = load_model('models/dialect_dl_model.h5')\n",
    "encoder  = joblib.load('vectors/encoder.pkl') "
   ]
  },
  {
   "cell_type": "code",
   "execution_count": 53,
   "id": "14720e95",
   "metadata": {},
   "outputs": [],
   "source": [
    "max_sequence_len = 100\n",
    "def convert_text_to_vector(text):\n",
    "    \n",
    "  vector = np.zeros((1,max_sequence_len))\n",
    "  text_ls = text.split(' ')\n",
    "  for i in range(len(text_ls)):\n",
    "    vector[0,i] = word2idx.get(text_ls[i],0)\n",
    "\n",
    "  return list(vector[0])"
   ]
  },
  {
   "cell_type": "code",
   "execution_count": 109,
   "id": "8cf28fd5",
   "metadata": {},
   "outputs": [],
   "source": [
    "def ret_dl_prediction(text):\n",
    "    \n",
    "    vec = np.array(convert_text_to_vector(text)).reshape(-1,1).T\n",
    "    prediction = np.argmax(dl_model.predict(vec))\n",
    "    \n",
    "    return encoder.inverse_transform([[prediction]])[0][0]"
   ]
  },
  {
   "cell_type": "code",
   "execution_count": 115,
   "id": "42a9e8c3",
   "metadata": {},
   "outputs": [
    {
     "name": "stdout",
     "output_type": "stream",
     "text": [
      " * Serving Flask app \"__main__\" (lazy loading)\n",
      " * Environment: production\n",
      "\u001b[31m   WARNING: This is a development server. Do not use it in a production deployment.\u001b[0m\n",
      "\u001b[2m   Use a production WSGI server instead.\u001b[0m\n",
      " * Debug mode: off\n"
     ]
    },
    {
     "name": "stderr",
     "output_type": "stream",
     "text": [
      " * Running on http://127.0.0.1:5001/ (Press CTRL+C to quit)\n",
      "127.0.0.1 - - [14/Mar/2022 07:31:16] \"\u001b[37mGET / HTTP/1.1\u001b[0m\" 200 -\n",
      "127.0.0.1 - - [14/Mar/2022 07:31:24] \"\u001b[37mPOST /insert-text HTTP/1.1\u001b[0m\" 200 -\n"
     ]
    },
    {
     "name": "stdout",
     "output_type": "stream",
     "text": [
      "1\n"
     ]
    },
    {
     "name": "stderr",
     "output_type": "stream",
     "text": [
      "127.0.0.1 - - [14/Mar/2022 07:31:32] \"\u001b[37mPOST /insert-text HTTP/1.1\u001b[0m\" 200 -\n"
     ]
    },
    {
     "name": "stdout",
     "output_type": "stream",
     "text": [
      "2\n"
     ]
    }
   ],
   "source": [
    "app = Flask(__name__)\n",
    "\n",
    "@app.route('/')\n",
    "def form():\n",
    "    return render_template('public/dialect.html')\n",
    "\n",
    "\n",
    "@app.route(\"/insert-text\", methods=[\"GET\", \"POST\"])\n",
    "def insert_text():\n",
    "\n",
    "    if request.method == \"POST\":\n",
    "        \n",
    "        text = request.form['text']\n",
    "\n",
    "        try:\n",
    "            model_option = int(request.form.getlist('options')[0])\n",
    "            \n",
    "            print(model_option)\n",
    "            if model_option == 1:\n",
    "                value = ret_ml_prediction(text.strip())\n",
    "            else:\n",
    "                value = ret_dl_prediction(text.strip())\n",
    "\n",
    "\n",
    "            #----------------------------------------------\n",
    "\n",
    "            return render_template(\"public/dialect.html\",value = value)\n",
    "\n",
    "            #----------------------------------------------\n",
    "        except:\n",
    "            print('not selected')\n",
    "        return redirect(request.url)\n",
    "\n",
    "\n",
    "    \n",
    "if __name__ == '__main__':\n",
    "    app.run(debug=False,port=5001)"
   ]
  },
  {
   "cell_type": "code",
   "execution_count": null,
   "id": "716c9b65",
   "metadata": {},
   "outputs": [],
   "source": []
  },
  {
   "cell_type": "code",
   "execution_count": null,
   "id": "eb3efd98",
   "metadata": {},
   "outputs": [],
   "source": []
  }
 ],
 "metadata": {
  "kernelspec": {
   "display_name": "Python 3",
   "language": "python",
   "name": "python3"
  },
  "language_info": {
   "codemirror_mode": {
    "name": "ipython",
    "version": 3
   },
   "file_extension": ".py",
   "mimetype": "text/x-python",
   "name": "python",
   "nbconvert_exporter": "python",
   "pygments_lexer": "ipython3",
   "version": "3.8.5"
  }
 },
 "nbformat": 4,
 "nbformat_minor": 5
}
