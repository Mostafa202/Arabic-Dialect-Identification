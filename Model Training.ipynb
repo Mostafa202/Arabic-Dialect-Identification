{
 "cells": [
  {
   "cell_type": "code",
   "execution_count": 2,
   "metadata": {
    "execution": {
     "iopub.execute_input": "2022-03-14T04:35:36.040177Z",
     "iopub.status.busy": "2022-03-14T04:35:36.039846Z",
     "iopub.status.idle": "2022-03-14T04:35:37.080379Z",
     "shell.execute_reply": "2022-03-14T04:35:37.079491Z",
     "shell.execute_reply.started": "2022-03-14T04:35:36.040140Z"
    }
   },
   "outputs": [],
   "source": [
    "#import libraries\n",
    "import numpy as np\n",
    "import pandas as pd\n",
    "import matplotlib.pyplot as plt\n",
    "import seaborn as sns\n",
    "import joblib\n",
    "from sklearn.linear_model import SGDClassifier\n",
    "from sklearn.preprocessing import MaxAbsScaler\n",
    "from sklearn.preprocessing import OrdinalEncoder\n",
    "from sklearn.metrics import *"
   ]
  },
  {
   "cell_type": "markdown",
   "metadata": {},
   "source": [
    "## ML Model"
   ]
  },
  {
   "cell_type": "code",
   "execution_count": 3,
   "metadata": {
    "execution": {
     "iopub.execute_input": "2022-03-14T04:35:37.082093Z",
     "iopub.status.busy": "2022-03-14T04:35:37.081858Z",
     "iopub.status.idle": "2022-03-14T04:35:37.761822Z",
     "shell.execute_reply": "2022-03-14T04:35:37.761038Z",
     "shell.execute_reply.started": "2022-03-14T04:35:37.082061Z"
    }
   },
   "outputs": [],
   "source": [
    "#load dataset for training and testing\n",
    "X_train = joblib.load('train_text.pkl')\n",
    "y_train = joblib.load('train_labels.pkl')\n",
    "\n",
    "X_test = joblib.load('test_text.pkl')\n",
    "y_test = joblib.load('test_labels.pkl')"
   ]
  },
  {
   "cell_type": "code",
   "execution_count": 4,
   "metadata": {
    "execution": {
     "iopub.execute_input": "2022-03-14T04:35:37.764315Z",
     "iopub.status.busy": "2022-03-14T04:35:37.764061Z",
     "iopub.status.idle": "2022-03-14T04:35:38.226990Z",
     "shell.execute_reply": "2022-03-14T04:35:38.226250Z",
     "shell.execute_reply.started": "2022-03-14T04:35:37.764282Z"
    }
   },
   "outputs": [],
   "source": [
    "#scaling dataset\n",
    "scale = MaxAbsScaler()\n",
    "X_train = scale.fit_transform(X_train)\n",
    "X_test = scale.transform(X_test)"
   ]
  },
  {
   "cell_type": "code",
   "execution_count": 5,
   "metadata": {
    "execution": {
     "iopub.execute_input": "2022-03-14T04:35:38.228638Z",
     "iopub.status.busy": "2022-03-14T04:35:38.228379Z",
     "iopub.status.idle": "2022-03-14T04:35:50.044992Z",
     "shell.execute_reply": "2022-03-14T04:35:50.044336Z",
     "shell.execute_reply.started": "2022-03-14T04:35:38.228603Z"
    }
   },
   "outputs": [],
   "source": [
    "clf = SGDClassifier()\n",
    "clf.fit(X_train,y_train)"
   ]
  },
  {
   "cell_type": "code",
   "execution_count": 6,
   "metadata": {
    "execution": {
     "iopub.execute_input": "2022-03-14T04:35:50.046747Z",
     "iopub.status.busy": "2022-03-14T04:35:50.046353Z",
     "iopub.status.idle": "2022-03-14T04:35:50.871828Z",
     "shell.execute_reply": "2022-03-14T04:35:50.871074Z",
     "shell.execute_reply.started": "2022-03-14T04:35:50.046712Z"
    }
   },
   "outputs": [],
   "source": [
    "#prediction\n",
    "y_pred_train = clf.predict(X_train)\n",
    "y_pred_test = clf.predict(X_test)\n",
    "\n",
    "acc_train = accuracy_score(y_train,y_pred_train)\n",
    "acc_test = accuracy_score(y_test,y_pred_test)\n",
    "print('Train Accuracy: ',acc_train)\n",
    "print('Test Accuracy: ',acc_test)"
   ]
  },
  {
   "cell_type": "code",
   "execution_count": 7,
   "metadata": {
    "execution": {
     "iopub.execute_input": "2022-03-14T04:35:50.873501Z",
     "iopub.status.busy": "2022-03-14T04:35:50.873106Z",
     "iopub.status.idle": "2022-03-14T04:35:52.547229Z",
     "shell.execute_reply": "2022-03-14T04:35:52.546472Z",
     "shell.execute_reply.started": "2022-03-14T04:35:50.873465Z"
    }
   },
   "outputs": [],
   "source": [
    "fig, ax = plt.subplots(figsize=(10, 10))\n",
    "cm = confusion_matrix(y_test, y_pred_test, labels=clf.classes_)\n",
    "disp = ConfusionMatrixDisplay(confusion_matrix=cm,display_labels=clf.classes_)\n",
    "disp.plot(ax=ax)\n",
    "plt.show()"
   ]
  },
  {
   "cell_type": "code",
   "execution_count": 8,
   "metadata": {
    "execution": {
     "iopub.execute_input": "2022-03-14T04:35:52.549931Z",
     "iopub.status.busy": "2022-03-14T04:35:52.548204Z",
     "iopub.status.idle": "2022-03-14T04:35:52.612471Z",
     "shell.execute_reply": "2022-03-14T04:35:52.611632Z",
     "shell.execute_reply.started": "2022-03-14T04:35:52.549902Z"
    }
   },
   "outputs": [],
   "source": [
    "joblib.dump(clf, 'dialect_ml_model.pkl')\n",
    "joblib.dump(scale, 'scaler.pkl')\n"
   ]
  },
  {
   "cell_type": "markdown",
   "metadata": {},
   "source": [
    "## DL Model"
   ]
  },
  {
   "cell_type": "code",
   "execution_count": 10,
   "metadata": {
    "execution": {
     "iopub.execute_input": "2022-03-14T04:54:30.602354Z",
     "iopub.status.busy": "2022-03-14T04:54:30.601724Z",
     "iopub.status.idle": "2022-03-14T04:54:34.703358Z",
     "shell.execute_reply": "2022-03-14T04:54:34.702596Z",
     "shell.execute_reply.started": "2022-03-14T04:54:30.602317Z"
    }
   },
   "outputs": [],
   "source": [
    "import tensorflow as tf"
   ]
  },
  {
   "cell_type": "code",
   "execution_count": 11,
   "metadata": {
    "execution": {
     "iopub.execute_input": "2022-03-14T04:54:34.705395Z",
     "iopub.status.busy": "2022-03-14T04:54:34.705141Z",
     "iopub.status.idle": "2022-03-14T04:54:37.189942Z",
     "shell.execute_reply": "2022-03-14T04:54:37.189144Z",
     "shell.execute_reply.started": "2022-03-14T04:54:34.705364Z"
    }
   },
   "outputs": [],
   "source": [
    "#import datasets\n",
    "train_data_2 = joblib.load('preprocessed_train_data.pkl')\n",
    "valid_data_2 = joblib.load('preprocessed_valid_data.pkl')\n",
    "test_data_2  = joblib.load('preprocessed_test_data.pkl')"
   ]
  },
  {
   "cell_type": "code",
   "execution_count": 12,
   "metadata": {
    "execution": {
     "iopub.execute_input": "2022-03-14T04:54:37.191747Z",
     "iopub.status.busy": "2022-03-14T04:54:37.191464Z",
     "iopub.status.idle": "2022-03-14T04:54:37.310323Z",
     "shell.execute_reply": "2022-03-14T04:54:37.309494Z",
     "shell.execute_reply.started": "2022-03-14T04:54:37.191700Z"
    }
   },
   "outputs": [],
   "source": [
    "#split datasets\n",
    "X_train = train_data_2.iloc[:,:-1].values\n",
    "y_train = train_data_2.iloc[:,-1].values\n",
    "\n",
    "X_valid = valid_data_2.iloc[:,:-1].values\n",
    "y_valid = valid_data_2.iloc[:,-1].values\n",
    "\n",
    "X_test = test_data_2.iloc[:,:-1].values\n",
    "y_test = test_data_2.iloc[:,-1].values\n"
   ]
  },
  {
   "cell_type": "code",
   "execution_count": 13,
   "metadata": {
    "execution": {
     "iopub.execute_input": "2022-03-14T04:54:37.312687Z",
     "iopub.status.busy": "2022-03-14T04:54:37.311946Z",
     "iopub.status.idle": "2022-03-14T04:54:37.449427Z",
     "shell.execute_reply": "2022-03-14T04:54:37.448773Z",
     "shell.execute_reply.started": "2022-03-14T04:54:37.312645Z"
    }
   },
   "outputs": [],
   "source": [
    "#encoding labels\n",
    "ord = OrdinalEncoder()\n",
    "y_train = ord.fit_transform(y_train.reshape(-1,1))\n",
    "y_valid = ord.transform(y_valid.reshape(-1,1))\n",
    "y_test  = ord.transform(y_test.reshape(-1,1))"
   ]
  },
  {
   "cell_type": "code",
   "execution_count": 14,
   "metadata": {
    "execution": {
     "iopub.execute_input": "2022-03-14T04:55:19.532438Z",
     "iopub.status.busy": "2022-03-14T04:55:19.531714Z",
     "iopub.status.idle": "2022-03-14T04:55:19.539405Z",
     "shell.execute_reply": "2022-03-14T04:55:19.538349Z",
     "shell.execute_reply.started": "2022-03-14T04:55:19.532402Z"
    }
   },
   "outputs": [],
   "source": [
    "joblib.dump(ord,'encoder.pkl')"
   ]
  },
  {
   "cell_type": "code",
   "execution_count": null,
   "metadata": {
    "execution": {
     "iopub.execute_input": "2022-03-12T23:34:46.03873Z",
     "iopub.status.busy": "2022-03-12T23:34:46.038494Z",
     "iopub.status.idle": "2022-03-12T23:34:46.042707Z",
     "shell.execute_reply": "2022-03-12T23:34:46.041937Z",
     "shell.execute_reply.started": "2022-03-12T23:34:46.038696Z"
    }
   },
   "outputs": [],
   "source": [
    "#from number of unique words\n",
    "VOCAB_SIZE = 369251"
   ]
  },
  {
   "cell_type": "code",
   "execution_count": null,
   "metadata": {
    "execution": {
     "iopub.execute_input": "2022-03-13T01:09:29.872423Z",
     "iopub.status.busy": "2022-03-13T01:09:29.872149Z",
     "iopub.status.idle": "2022-03-13T01:09:30.261622Z",
     "shell.execute_reply": "2022-03-13T01:09:30.260908Z",
     "shell.execute_reply.started": "2022-03-13T01:09:29.872394Z"
    }
   },
   "outputs": [],
   "source": [
    "model = tf.keras.models.Sequential([    \n",
    "    tf.keras.layers.Embedding(VOCAB_SIZE+1, 64),\n",
    "    tf.keras.layers.Bidirectional(tf.keras.layers.LSTM(64)),\n",
    "    tf.keras.layers.Dense(64, activation='relu'),\n",
    "    tf.keras.layers.Dense(18, activation='softmax')\n",
    "])"
   ]
  },
  {
   "cell_type": "code",
   "execution_count": null,
   "metadata": {
    "execution": {
     "iopub.execute_input": "2022-03-13T01:09:30.305272Z",
     "iopub.status.busy": "2022-03-13T01:09:30.305035Z",
     "iopub.status.idle": "2022-03-13T01:09:30.315637Z",
     "shell.execute_reply": "2022-03-13T01:09:30.314958Z",
     "shell.execute_reply.started": "2022-03-13T01:09:30.305242Z"
    }
   },
   "outputs": [],
   "source": [
    "model.compile(loss=tf.keras.losses.SparseCategoricalCrossentropy(),\n",
    "              optimizer=tf.keras.optimizers.Adam(),\n",
    "              metrics=['accuracy'])"
   ]
  },
  {
   "cell_type": "code",
   "execution_count": null,
   "metadata": {
    "execution": {
     "iopub.execute_input": "2022-03-13T01:09:30.784835Z",
     "iopub.status.busy": "2022-03-13T01:09:30.784347Z",
     "iopub.status.idle": "2022-03-13T01:09:30.791496Z",
     "shell.execute_reply": "2022-03-13T01:09:30.789107Z",
     "shell.execute_reply.started": "2022-03-13T01:09:30.784795Z"
    }
   },
   "outputs": [],
   "source": [
    "checkpoint_path = './'\n",
    "callback = tf.keras.callbacks.EarlyStopping(monitor='val_accuracy',restore_best_weights = True, patience=3)\n",
    "cp_callback = tf.keras.callbacks.ModelCheckpoint(filepath=checkpoint_path,\n",
    "                                                 save_best_only=True,\n",
    "                                                 monitor='val_accuracy',\n",
    "                                                 mode='max',\n",
    "                                                 verbose=1)"
   ]
  },
  {
   "cell_type": "code",
   "execution_count": null,
   "metadata": {
    "execution": {
     "iopub.execute_input": "2022-03-13T01:09:31.67678Z",
     "iopub.status.busy": "2022-03-13T01:09:31.676109Z",
     "iopub.status.idle": "2022-03-13T02:15:15.375608Z",
     "shell.execute_reply": "2022-03-13T02:15:15.374806Z",
     "shell.execute_reply.started": "2022-03-13T01:09:31.676738Z"
    }
   },
   "outputs": [],
   "source": [
    "gpus = tf.config.list_physical_devices('GPU')\n",
    "if gpus:\n",
    "  with tf.device('/CPU:0'):\n",
    "    history = model.fit(X_train, y_train, epochs=7, batch_size=128,\n",
    "                      validation_data=(X_valid, y_valid),callbacks=[callback,cp_callback])"
   ]
  },
  {
   "cell_type": "code",
   "execution_count": null,
   "metadata": {
    "execution": {
     "iopub.execute_input": "2022-03-13T02:34:53.075979Z",
     "iopub.status.busy": "2022-03-13T02:34:53.075682Z",
     "iopub.status.idle": "2022-03-13T02:35:03.909708Z",
     "shell.execute_reply": "2022-03-13T02:35:03.90903Z",
     "shell.execute_reply.started": "2022-03-13T02:34:53.075948Z"
    }
   },
   "outputs": [],
   "source": [
    "#test Accuracy\n",
    "model.evaluate(X_test,y_test)"
   ]
  },
  {
   "cell_type": "code",
   "execution_count": null,
   "metadata": {
    "execution": {
     "iopub.execute_input": "2022-03-13T02:35:37.215887Z",
     "iopub.status.busy": "2022-03-13T02:35:37.215336Z",
     "iopub.status.idle": "2022-03-13T02:35:37.769929Z",
     "shell.execute_reply": "2022-03-13T02:35:37.769151Z",
     "shell.execute_reply.started": "2022-03-13T02:35:37.215848Z"
    }
   },
   "outputs": [],
   "source": [
    "model.save('dialect_dl_model.h5')"
   ]
  },
  {
   "cell_type": "code",
   "execution_count": null,
   "metadata": {
    "execution": {
     "iopub.execute_input": "2022-03-13T02:38:42.484017Z",
     "iopub.status.busy": "2022-03-13T02:38:42.483675Z",
     "iopub.status.idle": "2022-03-13T02:38:42.686623Z",
     "shell.execute_reply": "2022-03-13T02:38:42.686Z",
     "shell.execute_reply.started": "2022-03-13T02:38:42.483983Z"
    }
   },
   "outputs": [],
   "source": [
    "import matplotlib.pyplot as plt\n",
    "acc = history.history['accuracy']\n",
    "val_acc = history.history['val_accuracy']\n",
    "\n",
    "epochs = range(len(acc))\n",
    "\n",
    "plt.plot(epochs, acc, 'r', label='Training accuracy')\n",
    "plt.plot(epochs, val_acc, 'b', label='Validation accuracy')\n",
    "plt.title('Training and validation accuracy')\n",
    "plt.legend(loc=0)\n",
    "plt.figure()\n",
    "\n",
    "\n",
    "plt.show()"
   ]
  },
  {
   "cell_type": "code",
   "execution_count": null,
   "metadata": {},
   "outputs": [],
   "source": []
  }
 ],
 "metadata": {
  "kernelspec": {
   "display_name": "Python 3",
   "language": "python",
   "name": "python3"
  },
  "language_info": {
   "codemirror_mode": {
    "name": "ipython",
    "version": 3
   },
   "file_extension": ".py",
   "mimetype": "text/x-python",
   "name": "python",
   "nbconvert_exporter": "python",
   "pygments_lexer": "ipython3",
   "version": "3.8.5"
  }
 },
 "nbformat": 4,
 "nbformat_minor": 4
}
