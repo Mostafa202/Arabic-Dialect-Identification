{
 "cells": [
  {
   "cell_type": "code",
   "execution_count": null,
   "metadata": {
    "execution": {
     "iopub.execute_input": "2022-03-14T04:10:01.591416Z",
     "iopub.status.busy": "2022-03-14T04:10:01.591085Z",
     "iopub.status.idle": "2022-03-14T04:10:03.158595Z",
     "shell.execute_reply": "2022-03-14T04:10:03.157761Z",
     "shell.execute_reply.started": "2022-03-14T04:10:01.591388Z"
    }
   },
   "outputs": [],
   "source": [
    "#import libraries\n",
    "import numpy as np\n",
    "import pandas as pd\n",
    "import pickle\n",
    "import re\n",
    "pd.options.display.max_rows = 100\n",
    "from pyarabic.araby import *\n",
    "from itertools import groupby\n",
    "from sklearn.model_selection import train_test_split\n",
    "from nltk.corpus import stopwords\n",
    "from sklearn.feature_extraction.text import CountVectorizer\n",
    "import joblib\n",
    "import matplotlib.pyplot as plt"
   ]
  },
  {
   "cell_type": "code",
   "execution_count": null,
   "metadata": {
    "execution": {
     "iopub.execute_input": "2022-03-14T04:10:03.160309Z",
     "iopub.status.busy": "2022-03-14T04:10:03.160092Z",
     "iopub.status.idle": "2022-03-14T04:10:03.164733Z",
     "shell.execute_reply": "2022-03-14T04:10:03.163664Z",
     "shell.execute_reply.started": "2022-03-14T04:10:03.160284Z"
    }
   },
   "outputs": [],
   "source": [
    "#constants\n",
    "TRAIN_PATH = 'preprocessed_train_data.pkl'\n",
    "VALID_PATH = 'preprocessed_valid_data.pkl'\n",
    "TEST_PATH  = 'preprocessed_test_data.pkl'"
   ]
  },
  {
   "cell_type": "code",
   "execution_count": null,
   "metadata": {
    "execution": {
     "iopub.execute_input": "2022-03-14T04:10:03.166196Z",
     "iopub.status.busy": "2022-03-14T04:10:03.165993Z",
     "iopub.status.idle": "2022-03-14T04:10:12.97341Z",
     "shell.execute_reply": "2022-03-14T04:10:12.97218Z",
     "shell.execute_reply.started": "2022-03-14T04:10:03.166171Z"
    }
   },
   "outputs": [],
   "source": [
    "pip install pickle5"
   ]
  },
  {
   "cell_type": "code",
   "execution_count": null,
   "metadata": {
    "execution": {
     "iopub.execute_input": "2022-03-14T04:10:12.977005Z",
     "iopub.status.busy": "2022-03-14T04:10:12.976158Z",
     "iopub.status.idle": "2022-03-14T04:10:12.988053Z",
     "shell.execute_reply": "2022-03-14T04:10:12.987253Z",
     "shell.execute_reply.started": "2022-03-14T04:10:12.976962Z"
    }
   },
   "outputs": [],
   "source": [
    "import pickle5 as pickle"
   ]
  },
  {
   "cell_type": "code",
   "execution_count": null,
   "metadata": {
    "execution": {
     "iopub.execute_input": "2022-03-14T04:10:12.989215Z",
     "iopub.status.busy": "2022-03-14T04:10:12.988963Z",
     "iopub.status.idle": "2022-03-14T04:10:14.064477Z",
     "shell.execute_reply": "2022-03-14T04:10:14.063728Z",
     "shell.execute_reply.started": "2022-03-14T04:10:12.989185Z"
    }
   },
   "outputs": [],
   "source": [
    "with open('fetched_dialect_dataset.pkl','rb') as dt:\n",
    "    dataset = pickle.load(dt)\n",
    "#dataset = pd.read_pickle('/kaggle/input/dialect/fetched_dialect_dataset.pkl')"
   ]
  },
  {
   "cell_type": "code",
   "execution_count": null,
   "metadata": {
    "execution": {
     "iopub.execute_input": "2022-03-14T04:10:14.065696Z",
     "iopub.status.busy": "2022-03-14T04:10:14.065467Z",
     "iopub.status.idle": "2022-03-14T04:10:14.086114Z",
     "shell.execute_reply": "2022-03-14T04:10:14.085037Z",
     "shell.execute_reply.started": "2022-03-14T04:10:14.06567Z"
    }
   },
   "outputs": [],
   "source": [
    "dataset.head()"
   ]
  },
  {
   "cell_type": "code",
   "execution_count": null,
   "metadata": {
    "execution": {
     "iopub.execute_input": "2022-03-14T04:10:14.087494Z",
     "iopub.status.busy": "2022-03-14T04:10:14.087288Z",
     "iopub.status.idle": "2022-03-14T04:10:14.101916Z",
     "shell.execute_reply": "2022-03-14T04:10:14.100978Z",
     "shell.execute_reply.started": "2022-03-14T04:10:14.087469Z"
    }
   },
   "outputs": [],
   "source": [
    "#preprocessing for dataset\n",
    "\n",
    "#removing arabic stopwords\n",
    "stop_words = stopwords.words('arabic') \n",
    "def filter_text(text):\n",
    "    \n",
    "    \"\"\"\n",
    "    Function to filter text\n",
    "    \n",
    "    Parameters:\n",
    "      * text(string): text that is filtered from special characters and others\n",
    "      \n",
    "    Return text(string): filtered text using regular expression\n",
    "    \"\"\"\n",
    "    #filter text by removing special characters -> not arabic words or numbers -> trim spcases -> removing stopwords and others\n",
    "    filtered_text = \" \".join([word for word in text.split(' ') if word not in stop_words])\n",
    "    filtered_text = \" \".join(re.findall('[\\u0600-\\u06ff]+',filtered_text))\n",
    "    filtered_text = re.sub('\\s+',' ',re.sub('[٠-٩؟،]','',filtered_text))\n",
    "    filtered_text = re.sub(\"[إأآا]\", \"ا\", filtered_text)\n",
    "    filtered_text = \"\".join(c for c, _ in groupby(filtered_text))\n",
    "    filtered_text = strip_tashkeel(filtered_text)\n",
    "    filtered_text = strip_lastharaka(filtered_text)\n",
    "    filtered_text = strip_tatweel(filtered_text)\n",
    "\n",
    "    return filtered_text\n",
    "    "
   ]
  },
  {
   "cell_type": "code",
   "execution_count": null,
   "metadata": {
    "execution": {
     "iopub.execute_input": "2022-03-14T04:10:14.104176Z",
     "iopub.status.busy": "2022-03-14T04:10:14.103711Z",
     "iopub.status.idle": "2022-03-14T04:10:14.127045Z",
     "shell.execute_reply": "2022-03-14T04:10:14.126326Z",
     "shell.execute_reply.started": "2022-03-14T04:10:14.104122Z"
    }
   },
   "outputs": [],
   "source": [
    "#copy dataset\n",
    "data = dataset.copy()"
   ]
  },
  {
   "cell_type": "code",
   "execution_count": null,
   "metadata": {
    "execution": {
     "iopub.execute_input": "2022-03-14T04:10:14.129059Z",
     "iopub.status.busy": "2022-03-14T04:10:14.12865Z",
     "iopub.status.idle": "2022-03-14T04:11:38.348693Z",
     "shell.execute_reply": "2022-03-14T04:11:38.347953Z",
     "shell.execute_reply.started": "2022-03-14T04:10:14.129012Z"
    }
   },
   "outputs": [],
   "source": [
    "data['text'] = dataset['text'].apply(lambda x:filter_text(x))"
   ]
  },
  {
   "cell_type": "code",
   "execution_count": null,
   "metadata": {
    "execution": {
     "iopub.execute_input": "2022-03-14T04:11:38.35219Z",
     "iopub.status.busy": "2022-03-14T04:11:38.351874Z",
     "iopub.status.idle": "2022-03-14T04:11:38.35785Z",
     "shell.execute_reply": "2022-03-14T04:11:38.357021Z",
     "shell.execute_reply.started": "2022-03-14T04:11:38.352151Z"
    }
   },
   "outputs": [],
   "source": [
    "#before filter\n",
    "dataset['text'][0]"
   ]
  },
  {
   "cell_type": "code",
   "execution_count": null,
   "metadata": {
    "execution": {
     "iopub.execute_input": "2022-03-14T04:11:38.359116Z",
     "iopub.status.busy": "2022-03-14T04:11:38.35885Z",
     "iopub.status.idle": "2022-03-14T04:11:38.37268Z",
     "shell.execute_reply": "2022-03-14T04:11:38.372017Z",
     "shell.execute_reply.started": "2022-03-14T04:11:38.359088Z"
    }
   },
   "outputs": [],
   "source": [
    "#after filter\n",
    "data['text'][0]"
   ]
  },
  {
   "cell_type": "code",
   "execution_count": null,
   "metadata": {
    "execution": {
     "iopub.execute_input": "2022-03-14T04:11:38.374105Z",
     "iopub.status.busy": "2022-03-14T04:11:38.373848Z",
     "iopub.status.idle": "2022-03-14T04:11:38.470968Z",
     "shell.execute_reply": "2022-03-14T04:11:38.470106Z",
     "shell.execute_reply.started": "2022-03-14T04:11:38.374078Z"
    }
   },
   "outputs": [],
   "source": [
    "#remove empty strings\n",
    "data.drop(index=data[data['text']==''].index.to_list(),inplace=True)"
   ]
  },
  {
   "cell_type": "code",
   "execution_count": null,
   "metadata": {
    "execution": {
     "iopub.execute_input": "2022-03-14T04:11:38.473012Z",
     "iopub.status.busy": "2022-03-14T04:11:38.472683Z",
     "iopub.status.idle": "2022-03-14T04:11:38.572967Z",
     "shell.execute_reply": "2022-03-14T04:11:38.572108Z",
     "shell.execute_reply.started": "2022-03-14T04:11:38.472973Z"
    }
   },
   "outputs": [],
   "source": [
    "#split dataset into training validation and testing datasets and transform only training dataset into vectors using dict\n",
    "\n",
    "train_data,test_data = train_test_split(data,test_size=0.2,random_state=0)"
   ]
  },
  {
   "cell_type": "code",
   "execution_count": null,
   "metadata": {
    "execution": {
     "iopub.execute_input": "2022-03-14T04:11:38.574337Z",
     "iopub.status.busy": "2022-03-14T04:11:38.574132Z",
     "iopub.status.idle": "2022-03-14T04:11:38.580283Z",
     "shell.execute_reply": "2022-03-14T04:11:38.579384Z",
     "shell.execute_reply.started": "2022-03-14T04:11:38.574313Z"
    }
   },
   "outputs": [],
   "source": [
    "print('The size of training dataset  : ',len(train_data))\n",
    "print('The size of testing  dataset  : ',len(test_data))"
   ]
  },
  {
   "cell_type": "markdown",
   "metadata": {},
   "source": [
    "**************** Preprocessing data to ML Model************"
   ]
  },
  {
   "cell_type": "code",
   "execution_count": null,
   "metadata": {
    "execution": {
     "iopub.execute_input": "2022-03-14T04:11:38.582396Z",
     "iopub.status.busy": "2022-03-14T04:11:38.581976Z",
     "iopub.status.idle": "2022-03-14T04:11:45.278385Z",
     "shell.execute_reply": "2022-03-14T04:11:45.277501Z",
     "shell.execute_reply.started": "2022-03-14T04:11:38.582367Z"
    }
   },
   "outputs": [],
   "source": [
    "#convert dataset into Count vectorization to be used in ML Model\n",
    "#train_data\n",
    "vector = CountVectorizer()\n",
    "X_train = vector.fit_transform(train_data['text'])\n",
    "y_train = train_data['dialect']"
   ]
  },
  {
   "cell_type": "code",
   "execution_count": null,
   "metadata": {
    "execution": {
     "iopub.execute_input": "2022-03-14T04:11:45.27976Z",
     "iopub.status.busy": "2022-03-14T04:11:45.279525Z",
     "iopub.status.idle": "2022-03-14T04:11:46.583414Z",
     "shell.execute_reply": "2022-03-14T04:11:46.582552Z",
     "shell.execute_reply.started": "2022-03-14T04:11:45.279732Z"
    }
   },
   "outputs": [],
   "source": [
    "#test_data\n",
    "X_test = vector.transform(test_data['text'])\n",
    "y_test = test_data['dialect']"
   ]
  },
  {
   "cell_type": "code",
   "execution_count": null,
   "metadata": {
    "execution": {
     "iopub.execute_input": "2022-03-14T04:11:46.58503Z",
     "iopub.status.busy": "2022-03-14T04:11:46.584782Z",
     "iopub.status.idle": "2022-03-14T04:11:46.709822Z",
     "shell.execute_reply": "2022-03-14T04:11:46.708999Z",
     "shell.execute_reply.started": "2022-03-14T04:11:46.585001Z"
    }
   },
   "outputs": [],
   "source": [
    "#save data into pickle files\n",
    "#training\n",
    "joblib.dump(X_train,'train_text.pkl')\n",
    "joblib.dump(y_train,'train_labels.pkl')\n",
    "\n",
    "#testing\n",
    "joblib.dump(X_test,'test_text.pkl')\n",
    "joblib.dump(y_test,'test_labels.pkl')"
   ]
  },
  {
   "cell_type": "code",
   "execution_count": null,
   "metadata": {
    "execution": {
     "iopub.execute_input": "2022-03-14T04:13:45.110821Z",
     "iopub.status.busy": "2022-03-14T04:13:45.110524Z",
     "iopub.status.idle": "2022-03-14T04:13:45.116938Z",
     "shell.execute_reply": "2022-03-14T04:13:45.116356Z",
     "shell.execute_reply.started": "2022-03-14T04:13:45.110775Z"
    }
   },
   "outputs": [],
   "source": [
    "X_test[0].shape"
   ]
  },
  {
   "cell_type": "code",
   "execution_count": null,
   "metadata": {
    "execution": {
     "iopub.execute_input": "2022-03-14T04:11:46.71991Z",
     "iopub.status.busy": "2022-03-14T04:11:46.719604Z",
     "iopub.status.idle": "2022-03-14T04:11:49.23201Z",
     "shell.execute_reply": "2022-03-14T04:11:49.230976Z",
     "shell.execute_reply.started": "2022-03-14T04:11:46.719871Z"
    }
   },
   "outputs": [],
   "source": [
    "#save countervectorizer\n",
    "joblib.dump(vector,'count_vector.pkl')"
   ]
  },
  {
   "cell_type": "markdown",
   "metadata": {},
   "source": [
    "**************** Preprocessing data vectorDL Model************"
   ]
  },
  {
   "cell_type": "code",
   "execution_count": null,
   "metadata": {
    "execution": {
     "iopub.execute_input": "2022-03-13T23:19:07.212231Z",
     "iopub.status.busy": "2022-03-13T23:19:07.211936Z",
     "iopub.status.idle": "2022-03-13T23:19:10.303639Z",
     "shell.execute_reply": "2022-03-13T23:19:10.302926Z",
     "shell.execute_reply.started": "2022-03-13T23:19:07.212203Z"
    }
   },
   "outputs": [],
   "source": [
    "#check the length of sentences to define the best number of the length\n",
    "text_length = [len(sent) for sent in data['text'].to_list()]\n",
    "plt.hist(text_length)"
   ]
  },
  {
   "cell_type": "code",
   "execution_count": null,
   "metadata": {
    "execution": {
     "iopub.execute_input": "2022-03-13T23:19:10.306306Z",
     "iopub.status.busy": "2022-03-13T23:19:10.305323Z",
     "iopub.status.idle": "2022-03-13T23:19:10.430029Z",
     "shell.execute_reply": "2022-03-13T23:19:10.429242Z",
     "shell.execute_reply.started": "2022-03-13T23:19:10.306254Z"
    }
   },
   "outputs": [],
   "source": [
    "#split data into training,validation and testing\n",
    "training_data,valid_data = train_test_split(data,test_size=0.2)\n",
    "valid_data,testing_data = train_test_split(valid_data,test_size=0.5)"
   ]
  },
  {
   "cell_type": "code",
   "execution_count": null,
   "metadata": {
    "execution": {
     "iopub.execute_input": "2022-03-13T23:19:10.43167Z",
     "iopub.status.busy": "2022-03-13T23:19:10.431355Z",
     "iopub.status.idle": "2022-03-13T23:19:10.43717Z",
     "shell.execute_reply": "2022-03-13T23:19:10.436555Z",
     "shell.execute_reply.started": "2022-03-13T23:19:10.43163Z"
    }
   },
   "outputs": [],
   "source": [
    "print(train_data.shape)\n",
    "print(valid_data.shape)\n",
    "print(test_data.shape)"
   ]
  },
  {
   "cell_type": "markdown",
   "metadata": {},
   "source": [
    "* Convert words into indices after defining unique words"
   ]
  },
  {
   "cell_type": "code",
   "execution_count": null,
   "metadata": {
    "execution": {
     "iopub.execute_input": "2022-03-13T23:19:12.351008Z",
     "iopub.status.busy": "2022-03-13T23:19:12.349813Z",
     "iopub.status.idle": "2022-03-13T23:19:16.669455Z",
     "shell.execute_reply": "2022-03-13T23:19:16.668431Z",
     "shell.execute_reply.started": "2022-03-13T23:19:12.350939Z"
    }
   },
   "outputs": [],
   "source": [
    "words_ls = []\n",
    "for i in list(train_data.index):\n",
    "  words_ls += train_data['text'][i].split(' ')"
   ]
  },
  {
   "cell_type": "code",
   "execution_count": null,
   "metadata": {
    "execution": {
     "iopub.execute_input": "2022-03-13T23:19:16.671672Z",
     "iopub.status.busy": "2022-03-13T23:19:16.671428Z",
     "iopub.status.idle": "2022-03-13T23:19:17.499409Z",
     "shell.execute_reply": "2022-03-13T23:19:17.498379Z",
     "shell.execute_reply.started": "2022-03-13T23:19:16.671644Z"
    }
   },
   "outputs": [],
   "source": [
    "unique_words = list(set(words_ls))"
   ]
  },
  {
   "cell_type": "code",
   "execution_count": null,
   "metadata": {
    "execution": {
     "iopub.execute_input": "2022-03-13T23:19:17.501168Z",
     "iopub.status.busy": "2022-03-13T23:19:17.500863Z",
     "iopub.status.idle": "2022-03-13T23:19:17.872958Z",
     "shell.execute_reply": "2022-03-13T23:19:17.871949Z",
     "shell.execute_reply.started": "2022-03-13T23:19:17.501122Z"
    }
   },
   "outputs": [],
   "source": [
    "word2idx = {word:index+1 for index,word in enumerate(unique_words)}\n",
    "idx2word = {word2idx[word]:word for word in unique_words}"
   ]
  },
  {
   "cell_type": "code",
   "execution_count": null,
   "metadata": {
    "execution": {
     "iopub.execute_input": "2022-03-13T23:19:17.87502Z",
     "iopub.status.busy": "2022-03-13T23:19:17.874737Z",
     "iopub.status.idle": "2022-03-13T23:19:17.878981Z",
     "shell.execute_reply": "2022-03-13T23:19:17.87825Z",
     "shell.execute_reply.started": "2022-03-13T23:19:17.874988Z"
    }
   },
   "outputs": [],
   "source": [
    "max_sequence_len = 100"
   ]
  },
  {
   "cell_type": "code",
   "execution_count": null,
   "metadata": {
    "execution": {
     "iopub.execute_input": "2022-03-13T23:19:18.378251Z",
     "iopub.status.busy": "2022-03-13T23:19:18.377743Z",
     "iopub.status.idle": "2022-03-13T23:19:18.383855Z",
     "shell.execute_reply": "2022-03-13T23:19:18.383163Z",
     "shell.execute_reply.started": "2022-03-13T23:19:18.378217Z"
    }
   },
   "outputs": [],
   "source": [
    "def convert_text_to_vector(text):\n",
    "\n",
    "  vector = np.zeros((1,max_sequence_len))\n",
    "  text_ls = text.split(' ')\n",
    "  for i in range(len(text_ls)):\n",
    "    vector[0,i] = word2idx.get(text_ls[i],0)\n",
    "\n",
    "  return list(vector[0])"
   ]
  },
  {
   "cell_type": "code",
   "execution_count": null,
   "metadata": {
    "execution": {
     "iopub.execute_input": "2022-03-13T23:20:42.444057Z",
     "iopub.status.busy": "2022-03-13T23:20:42.443694Z",
     "iopub.status.idle": "2022-03-13T23:20:46.822447Z",
     "shell.execute_reply": "2022-03-13T23:20:46.82073Z",
     "shell.execute_reply.started": "2022-03-13T23:20:42.444024Z"
    }
   },
   "outputs": [],
   "source": [
    "#save the dictionary to be used in the deployment\n",
    "joblib.dump(word2idx,'dict_word2idx.sav')"
   ]
  },
  {
   "cell_type": "code",
   "execution_count": null,
   "metadata": {
    "execution": {
     "iopub.execute_input": "2022-03-12T20:35:40.050573Z",
     "iopub.status.busy": "2022-03-12T20:35:40.050057Z",
     "iopub.status.idle": "2022-03-12T20:35:52.744663Z",
     "shell.execute_reply": "2022-03-12T20:35:52.743457Z",
     "shell.execute_reply.started": "2022-03-12T20:35:40.050525Z"
    }
   },
   "outputs": [],
   "source": [
    "training_data['text'] = training_data['text'].apply( convert_text_to_vector)"
   ]
  },
  {
   "cell_type": "code",
   "execution_count": null,
   "metadata": {
    "execution": {
     "iopub.execute_input": "2022-03-12T20:35:52.746395Z",
     "iopub.status.busy": "2022-03-12T20:35:52.746115Z",
     "iopub.status.idle": "2022-03-12T20:36:09.534543Z",
     "shell.execute_reply": "2022-03-12T20:36:09.533845Z",
     "shell.execute_reply.started": "2022-03-12T20:35:52.746362Z"
    }
   },
   "outputs": [],
   "source": [
    "train_data_split = pd.DataFrame(training_data['text'].to_list(), columns = ['col'+str(i) for i in range(1,101)])\n",
    "train_data_split['dialect'] = training_data['dialect'].to_list()"
   ]
  },
  {
   "cell_type": "code",
   "execution_count": null,
   "metadata": {
    "execution": {
     "iopub.execute_input": "2022-03-12T20:36:09.536362Z",
     "iopub.status.busy": "2022-03-12T20:36:09.535988Z",
     "iopub.status.idle": "2022-03-12T20:36:10.799037Z",
     "shell.execute_reply": "2022-03-12T20:36:10.798223Z",
     "shell.execute_reply.started": "2022-03-12T20:36:09.536318Z"
    }
   },
   "outputs": [],
   "source": [
    "valid_data['text'] = valid_data['text'].apply(convert_text_to_vector)"
   ]
  },
  {
   "cell_type": "code",
   "execution_count": null,
   "metadata": {
    "execution": {
     "iopub.execute_input": "2022-03-12T20:36:10.801534Z",
     "iopub.status.busy": "2022-03-12T20:36:10.800517Z",
     "iopub.status.idle": "2022-03-12T20:36:12.983741Z",
     "shell.execute_reply": "2022-03-12T20:36:12.983034Z",
     "shell.execute_reply.started": "2022-03-12T20:36:10.801487Z"
    }
   },
   "outputs": [],
   "source": [
    "valid_data_split = pd.DataFrame(valid_data['text'].to_list(), columns = ['col'+str(i) for i in range(1,101)])\n",
    "valid_data_split['dialect'] = valid_data['dialect'].to_list()"
   ]
  },
  {
   "cell_type": "code",
   "execution_count": null,
   "metadata": {
    "execution": {
     "iopub.execute_input": "2022-03-12T20:36:12.985259Z",
     "iopub.status.busy": "2022-03-12T20:36:12.984989Z",
     "iopub.status.idle": "2022-03-12T20:36:14.331082Z",
     "shell.execute_reply": "2022-03-12T20:36:14.33019Z",
     "shell.execute_reply.started": "2022-03-12T20:36:12.985227Z"
    }
   },
   "outputs": [],
   "source": [
    "testing_data['text'] = testing_data['text'].apply(convert_text_to_vector)"
   ]
  },
  {
   "cell_type": "code",
   "execution_count": null,
   "metadata": {
    "execution": {
     "iopub.execute_input": "2022-03-12T20:36:14.332542Z",
     "iopub.status.busy": "2022-03-12T20:36:14.332311Z",
     "iopub.status.idle": "2022-03-12T20:36:16.467897Z",
     "shell.execute_reply": "2022-03-12T20:36:16.467057Z",
     "shell.execute_reply.started": "2022-03-12T20:36:14.332515Z"
    }
   },
   "outputs": [],
   "source": [
    "test_data_split = pd.DataFrame(testing_data['text'].to_list(), columns = ['col'+str(i) for i in range(1,101)])\n",
    "test_data_split['dialect'] = testing_data['dialect'].to_list()"
   ]
  },
  {
   "cell_type": "code",
   "execution_count": null,
   "metadata": {
    "execution": {
     "iopub.execute_input": "2022-03-12T20:36:16.469378Z",
     "iopub.status.busy": "2022-03-12T20:36:16.469144Z",
     "iopub.status.idle": "2022-03-12T20:36:16.504808Z",
     "shell.execute_reply": "2022-03-12T20:36:16.504218Z",
     "shell.execute_reply.started": "2022-03-12T20:36:16.46935Z"
    }
   },
   "outputs": [],
   "source": [
    "train_data_split.head()"
   ]
  },
  {
   "cell_type": "code",
   "execution_count": null,
   "metadata": {
    "execution": {
     "iopub.execute_input": "2022-03-12T20:36:16.506334Z",
     "iopub.status.busy": "2022-03-12T20:36:16.505853Z",
     "iopub.status.idle": "2022-03-12T20:36:17.176517Z",
     "shell.execute_reply": "2022-03-12T20:36:17.175794Z",
     "shell.execute_reply.started": "2022-03-12T20:36:16.50627Z"
    }
   },
   "outputs": [],
   "source": [
    "#saving datasets into pickle files\n",
    "train_data_split.to_pickle(TRAIN_PATH)\n",
    "valid_data_split.to_pickle(VALID_PATH)\n",
    "test_data_split.to_pickle(TEST_PATH)"
   ]
  },
  {
   "cell_type": "code",
   "execution_count": null,
   "metadata": {},
   "outputs": [],
   "source": []
  },
  {
   "cell_type": "code",
   "execution_count": null,
   "metadata": {},
   "outputs": [],
   "source": []
  },
  {
   "cell_type": "code",
   "execution_count": null,
   "metadata": {},
   "outputs": [],
   "source": []
  },
  {
   "cell_type": "code",
   "execution_count": null,
   "metadata": {},
   "outputs": [],
   "source": []
  },
  {
   "cell_type": "code",
   "execution_count": null,
   "metadata": {},
   "outputs": [],
   "source": []
  }
 ],
 "metadata": {
  "kernelspec": {
   "display_name": "Python 3",
   "language": "python",
   "name": "python3"
  },
  "language_info": {
   "codemirror_mode": {
    "name": "ipython",
    "version": 3
   },
   "file_extension": ".py",
   "mimetype": "text/x-python",
   "name": "python",
   "nbconvert_exporter": "python",
   "pygments_lexer": "ipython3",
   "version": "3.8.5"
  }
 },
 "nbformat": 4,
 "nbformat_minor": 4
}
